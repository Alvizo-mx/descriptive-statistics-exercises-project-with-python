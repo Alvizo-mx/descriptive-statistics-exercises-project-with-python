{
    "cells": [
        {
            "cell_type": "markdown",
            "id": "ac622319",
            "metadata": {},
            "source": [
                "# Descriptive statistics problems"
            ]
        },
        {
            "cell_type": "markdown",
            "id": "5e0ab0d5",
            "metadata": {},
            "source": [
                "### Exercise 1\n",
                "\n",
                "We will use NumPy to obtain information to describe statistically.\n",
                "\n",
                "- Generate an array of 100 elements following a normal distribution.\n",
                "- Generate an array of 100 elements following a chi-square distribution with 3 degrees of freedom.\n",
                "- Calculate the main metrics and statistical measures that best describe the two vectors."
            ]
        },
        {
            "cell_type": "code",
            "execution_count": 18,
            "id": "34720ab6",
            "metadata": {},
            "outputs": [
                {
                    "name": "stdout",
                    "output_type": "stream",
                    "text": [
                        "Normal vector: [ 0.81846068 -1.53682876 -1.0778166   0.52782948  1.42205719  0.73875834\n",
                        " -0.8226851  -0.0064946  -0.10878914  0.46448631 -0.34156395 -0.38314949\n",
                        "  1.00128559  1.03122841 -0.04447923 -0.74824443 -1.16712016 -0.30816322\n",
                        "  1.38535507 -1.7031801  -0.93735982  0.30653594 -0.28842244  1.210103\n",
                        " -1.11560912 -0.35004595  0.16940032 -0.1650404   1.96156717  0.6683454\n",
                        "  0.12707998 -0.44723776 -1.58572521  0.42087384  1.30202998 -1.11017654\n",
                        "  0.85801184  0.46513412 -0.31328774 -1.59506375 -2.03028759  1.04010147\n",
                        " -0.60541586  0.74804481 -0.90783208  0.15529394  0.25867286 -0.81323982\n",
                        "  0.52530554  0.36299118 -0.58542249  0.41754117  0.83622173 -0.42271584\n",
                        "  0.03737893 -0.93681196 -0.51767637 -0.5490721   1.23611907  0.01625555\n",
                        "  2.75859559  0.22724991  1.41892616 -0.3277313   1.09985646 -0.93479629\n",
                        "  0.57866511  0.06922788 -0.31480894  0.23240353  1.05354823  0.84665713\n",
                        "  0.78745145  0.52685944 -0.25102565  0.48393222  0.69898929 -0.13039021\n",
                        "  0.68851058  1.31061176 -0.88334727  0.45145302  0.33455503  1.62565439\n",
                        "  0.86673299 -0.76337453 -2.29995605 -1.33077029 -2.09727496 -1.64737764\n",
                        "  2.94394676  0.41487359 -0.13065771 -1.66226598 -1.13913005 -0.12838351\n",
                        "  1.45273644  0.60118009  0.02741041  1.85997287]\n",
                        "Chi-square vector: [ 0.46403752  0.86494304  1.2228827   1.26400379  1.51832234  2.80856111\n",
                        "  0.16625633  3.40937076  8.69323253  4.00088122  3.14267537  1.87344058\n",
                        "  5.50208116  2.94073088  3.97606788  1.39824872  0.96273692  0.72325763\n",
                        "  9.86592709  0.1455152   3.02406638  2.18342609  6.32389404  2.23098849\n",
                        "  6.98402395  1.85996843  1.75587618  1.80748841  5.30069268  1.83509097\n",
                        "  0.70252222  1.53759348  3.37883439  4.74454403  1.44036079  3.15944026\n",
                        "  1.54556686  1.01438429  2.20645221  1.90238196  3.16447525  1.56247779\n",
                        "  5.21084506  2.50386867  2.94403731  4.47914776  0.76441293  2.73477687\n",
                        "  2.48290426  0.76230188  3.06270954  0.67504449  3.35765101  5.34580711\n",
                        "  3.74284689  7.32943486  5.72268542  5.67081971  1.59144784  1.74669073\n",
                        "  2.25936502  1.83561805  4.80599954  4.49712112  1.44081151  1.91283056\n",
                        "  0.75166831  2.61013439  1.00899077  5.88422299  8.67723552  2.49623039\n",
                        "  3.37400471  4.03691577  1.98821527  1.81522371  5.6632683   0.54612514\n",
                        "  3.62631789  3.62206808  1.55846161  7.98534916  4.0414734   6.04123181\n",
                        "  0.55366311 13.03782859  2.20425761  1.6661323   1.62919483  6.99196969\n",
                        "  1.99918706  0.37952201  2.08200665  7.2318873   4.00894175  3.97685855\n",
                        "  1.22801831  1.66664267 16.40168112  1.67626368]\n"
                    ]
                }
            ],
            "source": [
                "import numpy as np\n",
                "import statistics as stats\n",
                "from scipy.stats import skew\n",
                "from scipy.stats import kurtosis\n",
                "\n",
                "arr = np.random.normal(size=100)\n",
                "chi_sq_arr = np.random.chisquare(df=3, size=100)\n",
                "\n",
                "print(f\"Normal vector: {arr}\")\n",
                "print(f\"Chi-square vector: {chi_sq_arr}\")"
            ]
        },
        {
            "cell_type": "code",
            "execution_count": 20,
            "id": "1f01e7e5",
            "metadata": {},
            "outputs": [
                {
                    "name": "stdout",
                    "output_type": "stream",
                    "text": [
                        "The mean of normal distribution is: 0.06306221245965116\n",
                        "The mean of chi-squared distribution is: 3.2394809249560432\n",
                        "The median of normal distribution is: 0.09815392618775692\n",
                        "The median of chi-squared distribution is: 2.3711346405033087\n",
                        "The mode of normal distribution is: 0.09815392618775692\n",
                        "The mode of chi-squared distribution is: 2.3711346405033087\n",
                        "the rage in normal distribution is:5.243902813878087\n",
                        "the rage in chi-squared distribution is:16.256165922818518\n",
                        "The sandard deviation is: 1.020290119088426 and the variance in normal distribution is: 1.0409919271094745\n",
                        "The sandard deviation is: 2.690896573946219 and the variance in chi-squared distribution is: 7.2409243716755\n",
                        "skew normal:0.053182508492028976\n",
                        "skew chi-squares:2.049183886305998\n"
                    ]
                }
            ],
            "source": [
                "# Mean \n",
                "mean_arr = np.mean(arr)\n",
                "mean_chi = np.mean(chi_sq_arr)\n",
                "print(f'The mean of normal distribution is: {mean_arr}')\n",
                "print(f'The mean of chi-squared distribution is: {mean_chi}')\n",
                "\n",
                "# Median\n",
                "median_arr = np.median(arr)\n",
                "median_chi = np.median(chi_sq_arr)\n",
                "print(f'The median of normal distribution is: {median_arr}')\n",
                "print(f'The median of chi-squared distribution is: {median_chi}')\n",
                "\n",
                "# Mode\n",
                "mode_arr = stats.mode(arr)\n",
                "mode_chi = stats.mode(chi_sq_arr)\n",
                "print(f'The mode of normal distribution is: {median_arr}')\n",
                "print(f'The mode of chi-squared distribution is: {median_chi}')\n",
                "\n",
                "# Range\n",
                "range_arr = max(arr) - min(arr)\n",
                "range_chi = max(chi_sq_arr) - min(chi_sq_arr)\n",
                "print(f'the rage in normal distribution is:{range_arr}')\n",
                "print(f'the rage in chi-squared distribution is:{range_chi}')\n",
                "\n",
                "# Variance and standard deviation\n",
                "var_arr = stats.variance(arr)\n",
                "var_chi = stats.variance(chi_sq_arr)\n",
                "std_arr = stats.stdev(arr)\n",
                "std_chi = stats.stdev(chi_sq_arr)\n",
                "print(f'The sandard deviation is: {std_arr} and the variance in normal distribution is: {var_arr}')\n",
                "print(f'The sandard deviation is: {std_chi} and the variance in chi-squared distribution is: {var_chi}')\n",
                "\n",
                "# Skewness\n",
                "skew_arr = skew(arr)\n",
                "skew_chi = skew(chi_sq_arr)\n",
                "print(f'skew normal:{skew_arr}')\n",
                "print(f'skew chi-squares:{skew_chi}')\n"
            ]
        },
        {
            "cell_type": "markdown",
            "id": "46c70c3d",
            "metadata": {},
            "source": [
                "### Exercise 2\n",
                "\n",
                "Write a Python program to calculate the standard deviation of the following data:\n",
                "\n",
                "```py\n",
                "data = [4, 2, 5, 8, 6]\n",
                "```"
            ]
        },
        {
            "cell_type": "code",
            "execution_count": 17,
            "id": "d590308e",
            "metadata": {},
            "outputs": [
                {
                    "name": "stdout",
                    "output_type": "stream",
                    "text": [
                        "The standard deviation is 2.23606797749979\n"
                    ]
                }
            ],
            "source": [
                "\n",
                "\n",
                "data = [4, 2, 5, 8, 6]\n",
                "std = stats.stdev(data)\n",
                "\n",
                "print(f'The standard deviation is {std}')"
            ]
        }
    ],
    "metadata": {
        "kernelspec": {
            "display_name": "Python 3",
            "language": "python",
            "name": "python3"
        },
        "language_info": {
            "codemirror_mode": {
                "name": "ipython",
                "version": 3
            },
            "file_extension": ".py",
            "mimetype": "text/x-python",
            "name": "python",
            "nbconvert_exporter": "python",
            "pygments_lexer": "ipython3",
            "version": "3.11.4"
        }
    },
    "nbformat": 4,
    "nbformat_minor": 5
}
